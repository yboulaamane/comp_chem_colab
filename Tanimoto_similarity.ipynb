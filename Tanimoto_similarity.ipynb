{
  "cells": [
    {
      "cell_type": "code",
      "source": [
        "pip install rdkit-pypi"
      ],
      "metadata": {
        "id": "tq_dOuPA2Ay7",
        "outputId": "fe8b8107-5579-4dfe-b7eb-cb5b14982e6c",
        "colab": {
          "base_uri": "https://localhost:8080/"
        }
      },
      "execution_count": null,
      "outputs": [
        {
          "output_type": "stream",
          "name": "stdout",
          "text": [
            "Looking in indexes: https://pypi.org/simple, https://us-python.pkg.dev/colab-wheels/public/simple/\n",
            "Collecting rdkit-pypi\n",
            "  Downloading rdkit_pypi-2022.9.4-cp38-cp38-manylinux_2_17_x86_64.manylinux2014_x86_64.whl (29.3 MB)\n",
            "\u001b[2K     \u001b[90m━━━━━━━━━━━━━━━━━━━━━━━━━━━━━━━━━━━━━━━━\u001b[0m \u001b[32m29.3/29.3 MB\u001b[0m \u001b[31m29.1 MB/s\u001b[0m eta \u001b[36m0:00:00\u001b[0m\n",
            "\u001b[?25hRequirement already satisfied: numpy in /usr/local/lib/python3.8/dist-packages (from rdkit-pypi) (1.22.4)\n",
            "Requirement already satisfied: Pillow in /usr/local/lib/python3.8/dist-packages (from rdkit-pypi) (7.1.2)\n",
            "Installing collected packages: rdkit-pypi\n",
            "Successfully installed rdkit-pypi-2022.9.4\n"
          ]
        }
      ]
    },
    {
      "cell_type": "code",
      "source": [
        "# install RDKit\n",
        "!pip install kora -q\n",
        "import kora.install.rdkit"
      ],
      "metadata": {
        "colab": {
          "base_uri": "https://localhost:8080/"
        },
        "id": "Cc0rIrNP2USd",
        "outputId": "bbc819c3-e331-43fc-d804-9f7c6c9e06f8"
      },
      "execution_count": null,
      "outputs": [
        {
          "output_type": "stream",
          "name": "stdout",
          "text": [
            "\u001b[2K     \u001b[90m━━━━━━━━━━━━━━━━━━━━━━━━━━━━━━━━━━━━━━━\u001b[0m \u001b[32m57.7/57.7 KB\u001b[0m \u001b[31m925.0 kB/s\u001b[0m eta \u001b[36m0:00:00\u001b[0m\n",
            "\u001b[2K     \u001b[90m━━━━━━━━━━━━━━━━━━━━━━━━━━━━━━━━━━━━━━━━\u001b[0m \u001b[32m1.6/1.6 MB\u001b[0m \u001b[31m20.2 MB/s\u001b[0m eta \u001b[36m0:00:00\u001b[0m\n",
            "\u001b[?25h"
          ]
        }
      ]
    },
    {
      "cell_type": "code",
      "source": [
        "from rdkit import Chem\n",
        "from rdkit.Chem import AllChem\n",
        "from rdkit import DataStructs"
      ],
      "metadata": {
        "id": "7QEPymM72AxO"
      },
      "execution_count": null,
      "outputs": []
    },
    {
      "cell_type": "code",
      "source": [
        "def tanimoto_calc(smi1, smi2):\n",
        "    mol1 = Chem.MolFromSmiles(smi1)\n",
        "    mol2 = Chem.MolFromSmiles(smi2)\n",
        "    fp1 = AllChem.GetMorganFingerprintAsBitVect(mol1, 3, nBits=2048)\n",
        "    fp2 = AllChem.GetMorganFingerprintAsBitVect(mol2, 3, nBits=2048)\n",
        "    s = round(DataStructs.TanimotoSimilarity(fp1,fp2),3)\n",
        "    return s"
      ],
      "metadata": {
        "id": "75FIyaXt2Auw"
      },
      "execution_count": null,
      "outputs": []
    },
    {
      "cell_type": "code",
      "source": [
        "mol1='C1OC2=C(O1)C=C(C=C2)C3=CC(=NN3)C4=CC(=CC=C4)Br'\n",
        "mol2='CC1=CC=C(C=C1)CC2(C3=C(C(=CC=C3)Cl)NC2=O)C'\n",
        "mol3='CCCCC(=O)NC(=S)NNC(=O)C1=CC=C(C=C1)OC'\n",
        "mol4='C1=CC=C2C=C(C=CC2=C1)S(=O)(=O)NC3=CC=CC4=C3N=CC=C4'\n",
        "mol5='C1=CC=C(C=C1)CCC(=O)NNC(=S)NC(=O)C2=CC=C(C=C2)Cl'\n",
        "mol6='COc1cc2occc2c2oc(-c3ccc4c(c3)OCO4)cc(=O)c12'\n",
        "mol7='c1ccc(-c2ncc(-c3ccc4c(c3)OCO4)o2)cc1'\n",
        "mol8='OC(/C=C/c1cccc2cccnc12)=NN=C(O)c1cc(-c2ccccc2)on1'\n",
        "mol9='CC(c1c[nH]c2ccccc12)c1c[nH]c2ccccc12'\n",
        "mol10='c1ccc2ncc(-c3c[nH]c4ccccc34)cc2c1'"
      ],
      "metadata": {
        "id": "x20asATp2ArL"
      },
      "execution_count": null,
      "outputs": []
    },
    {
      "cell_type": "code",
      "source": [
        "tanimoto_calc(mol1,mol6)"
      ],
      "metadata": {
        "colab": {
          "base_uri": "https://localhost:8080/"
        },
        "id": "KBith5-S3lMe",
        "outputId": "62dfd8ed-3a19-4f9d-b6b2-c579d1fd7924"
      },
      "execution_count": null,
      "outputs": [
        {
          "output_type": "execute_result",
          "data": {
            "text/plain": [
              "0.231"
            ]
          },
          "metadata": {},
          "execution_count": 12
        }
      ]
    }
  ],
  "metadata": {
    "colab": {
      "provenance": []
    },
    "kernelspec": {
      "display_name": "Python 3",
      "name": "python3"
    }
  },
  "nbformat": 4,
  "nbformat_minor": 0
}